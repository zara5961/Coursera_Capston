{
 "cells": [
  {
   "cell_type": "markdown",
   "metadata": {
    "id": "HWWes_IXbFMw"
   },
   "source": [
    "<img style =\"float:right\" src = \"https://d1vwxdpzbgdqj.cloudfront.net/s3-public-images/learning-partners/greatlearning-brand.svg\" width=15%>"
   ]
  },
  {
   "cell_type": "markdown",
   "metadata": {
    "id": "Pwu6AKMXbFM3"
   },
   "source": [
    "# Project- Recommendation Systems : Movie Recommendations\n",
    "\n",
    "## Marks : 40\n",
    "---------------\n",
    "## Context\n",
    "---------------\n",
    "\n",
    "Online streaming platforms like Netflix have plenty of movies in their repositories and if we can build a recommendation system to recommend relevant movies to users based on their historical interactions, this would improve customer satisfaction and hence improve revenue. The techniques that we will learn here will not only be limited to movies, it can be any item for which you want to build a recommendation system. \n",
    "\n",
    "-----------------\n",
    "## Objective\n",
    "-----------------\n",
    "\n",
    "Build a recommendation system to recommend movies to users based on the ratings given to different movies by the user: \n",
    "\n",
    "-----------------\n",
    "## Dataset\n",
    "-----------------\n",
    "\n",
    "The **dataset** dataset contains the following attributes: \n",
    "- userId\n",
    "- movieId\n",
    "- rating"
   ]
  },
  {
   "cell_type": "markdown",
   "metadata": {
    "id": "_nJi5fv2bFM5"
   },
   "source": [
    "## Importing Libraries\n",
    "\n",
    "### One of the first steps in any data science task is importing the necessary tools you will use.\n"
   ]
  },
  {
   "cell_type": "code",
   "execution_count": 1,
   "metadata": {
    "colab": {
     "base_uri": "https://localhost:8080/"
    },
    "id": "_cfLsALlbFM6",
    "outputId": "2ec62b8f-5a6a-4913-d69d-62ed52b3cbb8"
   },
   "outputs": [
    {
     "name": "stdout",
     "output_type": "stream",
     "text": [
      "Requirement already satisfied: scikit-surprise in c:\\users\\zarap\\anaconda3\\lib\\site-packages (1.1.1)\n",
      "Requirement already satisfied: joblib>=0.11 in c:\\users\\zarap\\anaconda3\\lib\\site-packages (from scikit-surprise) (1.0.1)\n",
      "Requirement already satisfied: numpy>=1.11.2 in c:\\users\\zarap\\anaconda3\\lib\\site-packages (from scikit-surprise) (1.20.1)\n",
      "Requirement already satisfied: scipy>=1.0.0 in c:\\users\\zarap\\anaconda3\\lib\\site-packages (from scikit-surprise) (1.6.2)\n",
      "Requirement already satisfied: six>=1.10.0 in c:\\users\\zarap\\anaconda3\\lib\\site-packages (from scikit-surprise) (1.15.0)\n"
     ]
    }
   ],
   "source": [
    "#uncomment if you not installed the scikit surprise library\n",
    "!pip install scikit-surprise\n",
    "\n",
    "#importing libaries\n",
    "import matplotlib.pyplot as plt\n",
    "import numpy as np\n",
    "import pandas as pd\n",
    "import seaborn as sns\n",
    "from surprise import Reader\n",
    "from surprise import Dataset\n",
    "from surprise import  SVD, NormalPredictor, KNNBasic\n",
    "from surprise.model_selection import cross_validate\n",
    "from surprise import accuracy\n",
    "from IPython.display import display\n",
    "from collections import defaultdict\n",
    "from surprise.model_selection import KFold\n",
    "from surprise.model_selection import train_test_split"
   ]
  },
  {
   "cell_type": "markdown",
   "metadata": {
    "id": "a3ATY6htbFM-"
   },
   "source": [
    "## Reading the Data"
   ]
  },
  {
   "cell_type": "code",
   "execution_count": 2,
   "metadata": {
    "colab": {
     "base_uri": "https://localhost:8080/"
    },
    "id": "DUzO59skbFM-",
    "outputId": "df6e1b40-4417-4303-a967-6282929b18d5"
   },
   "outputs": [
    {
     "name": "stdout",
     "output_type": "stream",
     "text": [
      "<class 'pandas.core.frame.DataFrame'>\n",
      "RangeIndex: 100000 entries, 0 to 99999\n",
      "Data columns (total 4 columns):\n",
      " #   Column     Non-Null Count   Dtype\n",
      "---  ------     --------------   -----\n",
      " 0   userId     100000 non-null  int64\n",
      " 1   movieId    100000 non-null  int64\n",
      " 2   rating     100000 non-null  int64\n",
      " 3   timestamp  100000 non-null  int64\n",
      "dtypes: int64(4)\n",
      "memory usage: 3.1 MB\n"
     ]
    }
   ],
   "source": [
    "col_names = ['userId', 'movieId', 'rating', 'timestamp']\n",
    "data = pd.read_table('u.data', names=col_names)\n",
    "data.info()"
   ]
  },
  {
   "cell_type": "markdown",
   "metadata": {
    "id": "NcJZSdXVd1Ge"
   },
   "source": [
    "**Observations:**\n",
    "- There are **1,00,000 observations** and **4 columns** in the data\n",
    "- All the columns are of **numeric data type**\n",
    "- The data type of the timestamp column is int64 which is not correct. We can convert this to DateTime format but **we don't need timestamp for our analysis**. Hence, **we can drop this column**\n"
   ]
  },
  {
   "cell_type": "code",
   "execution_count": 3,
   "metadata": {},
   "outputs": [],
   "source": [
    "data = data.drop('timestamp', axis=1)"
   ]
  },
  {
   "cell_type": "markdown",
   "metadata": {
    "id": "6FFmvhbXbFNA"
   },
   "source": [
    "### Question 1\n",
    "#### 1.1 Print top 5 rows of the dataset and describe the dataset.  ( 1 Mark)\n",
    "#### 1.2 Describe the distribution of ratings. ( 1 Mark )"
   ]
  },
  {
   "cell_type": "code",
   "execution_count": 4,
   "metadata": {
    "colab": {
     "base_uri": "https://localhost:8080/",
     "height": 204
    },
    "id": "qURfLSkCbFNB",
    "outputId": "484fcaa4-0c5c-4aa3-afab-14a727a3dc1b"
   },
   "outputs": [
    {
     "data": {
      "text/html": [
       "<div>\n",
       "<style scoped>\n",
       "    .dataframe tbody tr th:only-of-type {\n",
       "        vertical-align: middle;\n",
       "    }\n",
       "\n",
       "    .dataframe tbody tr th {\n",
       "        vertical-align: top;\n",
       "    }\n",
       "\n",
       "    .dataframe thead th {\n",
       "        text-align: right;\n",
       "    }\n",
       "</style>\n",
       "<table border=\"1\" class=\"dataframe\">\n",
       "  <thead>\n",
       "    <tr style=\"text-align: right;\">\n",
       "      <th></th>\n",
       "      <th>userId</th>\n",
       "      <th>movieId</th>\n",
       "      <th>rating</th>\n",
       "    </tr>\n",
       "  </thead>\n",
       "  <tbody>\n",
       "    <tr>\n",
       "      <th>0</th>\n",
       "      <td>196</td>\n",
       "      <td>242</td>\n",
       "      <td>3</td>\n",
       "    </tr>\n",
       "    <tr>\n",
       "      <th>1</th>\n",
       "      <td>186</td>\n",
       "      <td>302</td>\n",
       "      <td>3</td>\n",
       "    </tr>\n",
       "    <tr>\n",
       "      <th>2</th>\n",
       "      <td>22</td>\n",
       "      <td>377</td>\n",
       "      <td>1</td>\n",
       "    </tr>\n",
       "    <tr>\n",
       "      <th>3</th>\n",
       "      <td>244</td>\n",
       "      <td>51</td>\n",
       "      <td>2</td>\n",
       "    </tr>\n",
       "    <tr>\n",
       "      <th>4</th>\n",
       "      <td>166</td>\n",
       "      <td>346</td>\n",
       "      <td>1</td>\n",
       "    </tr>\n",
       "  </tbody>\n",
       "</table>\n",
       "</div>"
      ],
      "text/plain": [
       "   userId  movieId  rating\n",
       "0     196      242       3\n",
       "1     186      302       3\n",
       "2      22      377       1\n",
       "3     244       51       2\n",
       "4     166      346       1"
      ]
     },
     "execution_count": 4,
     "metadata": {},
     "output_type": "execute_result"
    }
   ],
   "source": [
    "#printing the top 5 rows of the dataset Hint use .head()\n",
    "data.head()"
   ]
  },
  {
   "cell_type": "code",
   "execution_count": 5,
   "metadata": {
    "colab": {
     "base_uri": "https://localhost:8080/",
     "height": 265
    },
    "id": "XhwO46WubFNC",
    "outputId": "11a407e2-18e8-4c36-d871-9fbc7bbedb0b"
   },
   "outputs": [
    {
     "data": {
      "image/png": "[encoded data removed]",
      "text/plain": [
       "<Figure size 864x288 with 1 Axes>"
      ]
     },
     "metadata": {
      "needs_background": "light"
     },
     "output_type": "display_data"
    }
   ],
   "source": [
    "#describe the distribution of ratings\n",
    "\n",
    "plt.figure(figsize = (12, 4))\n",
    "sns.countplot(x = \"rating\", data = data)\n",
    "\n",
    "plt.tick_params(labelsize = 10)\n",
    "plt.title(\"Distribution of Ratings \", fontsize = 10)\n",
    "plt.xlabel(\"Ratings\", fontsize = 10)\n",
    "plt.ylabel(\"Number of Ratings\", fontsize = 10)\n",
    "plt.show()"
   ]
  },
  {
   "cell_type": "code",
   "execution_count": 6,
   "metadata": {},
   "outputs": [
    {
     "data": {
      "text/plain": [
       "4    0.34174\n",
       "3    0.27145\n",
       "5    0.21201\n",
       "2    0.11370\n",
       "1    0.06110\n",
       "Name: rating, dtype: float64"
      ]
     },
     "execution_count": 6,
     "metadata": {},
     "output_type": "execute_result"
    }
   ],
   "source": [
    "data.rating.value_counts(normalize=True)"
   ]
  },
  {
   "cell_type": "markdown",
   "metadata": {
    "id": "UVwlrAE_bFND"
   },
   "source": [
    "**Write your answer here:**\n",
    "Dataset has 100000  rows and 3 columns.(Originaly 4 columns and we drop one of them.) There are no Nulls in the dataset. The ratings are ranging from 1 to 5.\n",
    "\n",
    "Data is somehow skewed towards Rating '4'. Rating '3' is second highest in count.\n",
    "\n",
    "We can see many people are giving rating between 3 to 5. It shows people are tend to giving a rating for a movie which they like."
   ]
  },
  {
   "cell_type": "markdown",
   "metadata": {
    "id": "dH5YSzz0g1Up"
   },
   "source": [
    "#### Q 1.3. What is the total number of unique users and unique movies? ( 1 Mark)"
   ]
  },
  {
   "cell_type": "code",
   "execution_count": 7,
   "metadata": {
    "colab": {
     "base_uri": "https://localhost:8080/"
    },
    "id": "VkfzLzYdhKfq",
    "outputId": "f6cfdf72-e088-48c7-a6fe-7f84ef7d9262"
   },
   "outputs": [
    {
     "data": {
      "text/plain": [
       "943"
      ]
     },
     "execution_count": 7,
     "metadata": {},
     "output_type": "execute_result"
    }
   ],
   "source": [
    "#number of unique users\n",
    "\n",
    "data['userId'].nunique()"
   ]
  },
  {
   "cell_type": "code",
   "execution_count": 8,
   "metadata": {
    "colab": {
     "base_uri": "https://localhost:8080/"
    },
    "id": "uYR2NmvHhqyl",
    "outputId": "03414cda-b1f2-437b-a890-3d43595795ee"
   },
   "outputs": [
    {
     "data": {
      "text/plain": [
       "1682"
      ]
     },
     "execution_count": 8,
     "metadata": {},
     "output_type": "execute_result"
    }
   ],
   "source": [
    "#number of unique movies \n",
    "\n",
    "data['movieId'].nunique()"
   ]
  },
  {
   "cell_type": "markdown",
   "metadata": {
    "id": "CQpBQnGlhtbM"
   },
   "source": [
    "**Write your answer here:**\n",
    "There are 934 user and \n",
    "there are 1682 movies(Items) in the dataset.\n",
    "There is a possibility of the product of 934 * 1682= 1,586,126 ratings in the dataset. since we have 100000 rating in our dataset it means that many users did not rate every movies. So, we can build a recommendation system to recommend movies to users based on their interests.\n"
   ]
  },
  {
   "cell_type": "code",
   "execution_count": 9,
   "metadata": {
    "colab": {
     "base_uri": "https://localhost:8080/",
     "height": 449
    },
    "id": "BERzLdY_ndGz",
    "outputId": "da42bfbf-e1ca-4922-ca42-992e922d5eb3"
   },
   "outputs": [
    {
     "data": {
      "text/html": [
       "<div>\n",
       "<style scoped>\n",
       "    .dataframe tbody tr th:only-of-type {\n",
       "        vertical-align: middle;\n",
       "    }\n",
       "\n",
       "    .dataframe tbody tr th {\n",
       "        vertical-align: top;\n",
       "    }\n",
       "\n",
       "    .dataframe thead th {\n",
       "        text-align: right;\n",
       "    }\n",
       "</style>\n",
       "<table border=\"1\" class=\"dataframe\">\n",
       "  <thead>\n",
       "    <tr style=\"text-align: right;\">\n",
       "      <th></th>\n",
       "      <th></th>\n",
       "      <th>rating</th>\n",
       "    </tr>\n",
       "    <tr>\n",
       "      <th>userId</th>\n",
       "      <th>movieId</th>\n",
       "      <th></th>\n",
       "    </tr>\n",
       "  </thead>\n",
       "  <tbody>\n",
       "    <tr>\n",
       "      <th rowspan=\"5\" valign=\"top\">1</th>\n",
       "      <th>1</th>\n",
       "      <td>1</td>\n",
       "    </tr>\n",
       "    <tr>\n",
       "      <th>2</th>\n",
       "      <td>1</td>\n",
       "    </tr>\n",
       "    <tr>\n",
       "      <th>3</th>\n",
       "      <td>1</td>\n",
       "    </tr>\n",
       "    <tr>\n",
       "      <th>4</th>\n",
       "      <td>1</td>\n",
       "    </tr>\n",
       "    <tr>\n",
       "      <th>5</th>\n",
       "      <td>1</td>\n",
       "    </tr>\n",
       "    <tr>\n",
       "      <th>...</th>\n",
       "      <th>...</th>\n",
       "      <td>...</td>\n",
       "    </tr>\n",
       "    <tr>\n",
       "      <th rowspan=\"5\" valign=\"top\">943</th>\n",
       "      <th>1067</th>\n",
       "      <td>1</td>\n",
       "    </tr>\n",
       "    <tr>\n",
       "      <th>1074</th>\n",
       "      <td>1</td>\n",
       "    </tr>\n",
       "    <tr>\n",
       "      <th>1188</th>\n",
       "      <td>1</td>\n",
       "    </tr>\n",
       "    <tr>\n",
       "      <th>1228</th>\n",
       "      <td>1</td>\n",
       "    </tr>\n",
       "    <tr>\n",
       "      <th>1330</th>\n",
       "      <td>1</td>\n",
       "    </tr>\n",
       "  </tbody>\n",
       "</table>\n",
       "<p>100000 rows × 1 columns</p>\n",
       "</div>"
      ],
      "text/plain": [
       "                rating\n",
       "userId movieId        \n",
       "1      1             1\n",
       "       2             1\n",
       "       3             1\n",
       "       4             1\n",
       "       5             1\n",
       "...                ...\n",
       "943    1067          1\n",
       "       1074          1\n",
       "       1188          1\n",
       "       1228          1\n",
       "       1330          1\n",
       "\n",
       "[100000 rows x 1 columns]"
      ]
     },
     "execution_count": 9,
     "metadata": {},
     "output_type": "execute_result"
    }
   ],
   "source": [
    "data.groupby(['userId', 'movieId']).count()"
   ]
  },
  {
   "cell_type": "code",
   "execution_count": 10,
   "metadata": {
    "colab": {
     "base_uri": "https://localhost:8080/"
    },
    "id": "0k6x_rWVnrI5",
    "outputId": "6c930062-13ed-48d8-99b9-6fab36527ddd"
   },
   "outputs": [
    {
     "data": {
      "text/plain": [
       "100000"
      ]
     },
     "execution_count": 10,
     "metadata": {},
     "output_type": "execute_result"
    }
   ],
   "source": [
    "data.groupby(['userId', 'movieId']).count()['rating'].sum()"
   ]
  },
  {
   "cell_type": "markdown",
   "metadata": {
    "id": "5olBj827nyWQ"
   },
   "source": [
    "- The **sum is equal to the total number of observations** which implies that **there is only interaction between a pair of movies and a user**."
   ]
  },
  {
   "cell_type": "markdown",
   "metadata": {
    "id": "p_b_sAIOoIr7"
   },
   "source": [
    "#### Q 1.4. Which one is the most interacted movie in the dataset? ( 1 Mark)"
   ]
  },
  {
   "cell_type": "code",
   "execution_count": 11,
   "metadata": {
    "colab": {
     "base_uri": "https://localhost:8080/"
    },
    "id": "Z0NO3eCIoKjd",
    "outputId": "89c1f1d4-c56a-44c3-f8b8-19fc59651a79"
   },
   "outputs": [
    {
     "data": {
      "text/plain": [
       "50      583\n",
       "258     509\n",
       "100     508\n",
       "181     507\n",
       "294     485\n",
       "       ... \n",
       "1543      1\n",
       "1583      1\n",
       "1647      1\n",
       "711       1\n",
       "1663      1\n",
       "Name: movieId, Length: 1682, dtype: int64"
      ]
     },
     "execution_count": 11,
     "metadata": {},
     "output_type": "execute_result"
    }
   ],
   "source": [
    "data['movieId'].value_counts()"
   ]
  },
  {
   "cell_type": "markdown",
   "metadata": {
    "id": "y_6uqKCdoR02"
   },
   "source": [
    "**Write your answer here:**\n",
    "The movie with Id number:50 has been interacted by most users which is 583 times.\n",
    "But still, there is a possibility of 943-583 = 360 more interactions as we have 943 unique users in our datasets. For those remaining users, we can build a recommendation system to predict who is most likely to interact with this movie.\n",
    "Also, out of these 583 interactions, we need to consider the distribution of ratings as well to check whether this movie is the most liked or most disliked one."
   ]
  },
  {
   "cell_type": "code",
   "execution_count": 12,
   "metadata": {
    "colab": {
     "base_uri": "https://localhost:8080/",
     "height": 448
    },
    "id": "qylfHWGBpQdu",
    "outputId": "f09e1f0b-027a-4553-c595-1c3531f080fb"
   },
   "outputs": [
    {
     "data": {
      "image/png": "[encoded data removed]",
      "text/plain": [
       "<Figure size 504x504 with 1 Axes>"
      ]
     },
     "metadata": {
      "needs_background": "light"
     },
     "output_type": "display_data"
    }
   ],
   "source": [
    "#Plotting distributions of ratings for 583 interactions with movieid 50 \n",
    "\n",
    "plt.figure(figsize=(7,7))\n",
    "\n",
    "data[data['movieId'] == 50]['rating'].value_counts().plot(kind='bar')\n",
    "\n",
    "plt.xlabel('Rating')\n",
    "\n",
    "plt.ylabel('Count')\n",
    "\n",
    "plt.show()"
   ]
  },
  {
   "cell_type": "markdown",
   "metadata": {
    "id": "vw2xWHPhpXeh"
   },
   "source": [
    "**Write your answer here:**\n",
    "We can see that this movie has been liked by the majority of users, as the count of ratings 5 and 4 is higher than the count of other ratings.\n",
    "There can be movies with very high interactions but the count of ratings 1 and 2 may be much higher than 4 or 5 which would imply that the movie is disliked by the majority of users."
   ]
  },
  {
   "cell_type": "markdown",
   "metadata": {
    "id": "3CuJ-wJ5ptxs"
   },
   "source": [
    "#### Analysis of Ratings by users"
   ]
  },
  {
   "cell_type": "markdown",
   "metadata": {
    "id": "J2L4BaGIqdQD"
   },
   "source": [
    "##### Q 1.5. Which user interacted the most with any movie in the dataset? (1 Mark)"
   ]
  },
  {
   "cell_type": "code",
   "execution_count": 13,
   "metadata": {
    "colab": {
     "base_uri": "https://localhost:8080/"
    },
    "id": "E1wByrKPpy57",
    "outputId": "90272a42-40d0-467f-cf5b-240a70f26a30"
   },
   "outputs": [
    {
     "data": {
      "text/plain": [
       "405    737\n",
       "655    685\n",
       "13     636\n",
       "450    540\n",
       "276    518\n",
       "      ... \n",
       "571     20\n",
       "364     20\n",
       "812     20\n",
       "572     20\n",
       "895     20\n",
       "Name: userId, Length: 943, dtype: int64"
      ]
     },
     "execution_count": 13,
     "metadata": {},
     "output_type": "execute_result"
    }
   ],
   "source": [
    "data['userId'].value_counts()"
   ]
  },
  {
   "cell_type": "markdown",
   "metadata": {
    "id": "vyW38v65rIu_"
   },
   "source": [
    "**Write your answer here:**\n",
    "The user with userId: 405 has interacted with the most number of movies which is 737 times.\n",
    "But still, there is a possibility of 1682-737 = 948 more interactions as we have 1682 unique movies in our dataset. For those 948 remaining movies, we can build a recommendation system to predict which movies are most likely to be liked by this user."
   ]
  },
  {
   "cell_type": "markdown",
   "metadata": {
    "id": "jLqZagMdrOqa"
   },
   "source": [
    "#### Q 1.6. What is the distribution of the user-movie interactions in this dataset? (1 Mark)"
   ]
  },
  {
   "cell_type": "code",
   "execution_count": 14,
   "metadata": {
    "colab": {
     "base_uri": "https://localhost:8080/"
    },
    "id": "5ruuR3CBrUw4",
    "outputId": "02feb8c3-183c-4fa6-f967-3bf85629e187"
   },
   "outputs": [
    {
     "data": {
      "text/plain": [
       "userId\n",
       "1      272\n",
       "2       62\n",
       "3       54\n",
       "4       24\n",
       "5      175\n",
       "      ... \n",
       "939     49\n",
       "940    107\n",
       "941     22\n",
       "942     79\n",
       "943    168\n",
       "Name: movieId, Length: 943, dtype: int64"
      ]
     },
     "execution_count": 14,
     "metadata": {},
     "output_type": "execute_result"
    }
   ],
   "source": [
    "#Finding user-movie interactions distribution\n",
    "\n",
    "count_interactions = data.groupby('userId').count()['movieId']\n",
    "count_interactions"
   ]
  },
  {
   "cell_type": "code",
   "execution_count": 15,
   "metadata": {
    "colab": {
     "base_uri": "https://localhost:8080/",
     "height": 445
    },
    "id": "-YLwR4LwsGAv",
    "outputId": "c1659959-7245-422c-f040-c1e1f54f695c"
   },
   "outputs": [
    {
     "data": {
      "image/png": "[encoded data removed]",
      "text/plain": [
       "<Figure size 1080x504 with 1 Axes>"
      ]
     },
     "metadata": {
      "needs_background": "light"
     },
     "output_type": "display_data"
    }
   ],
   "source": [
    "#Plotting user-movie interactions distribution\n",
    "\n",
    "plt.figure(figsize=(15,7))\n",
    "\n",
    "sns.histplot(count_interactions)\n",
    "\n",
    "plt.xlabel('Number of Interactions by Users')\n",
    "\n",
    "plt.show()"
   ]
  },
  {
   "cell_type": "markdown",
   "metadata": {
    "id": "1oL-nNYfsJ9n"
   },
   "source": [
    "**Write your answer here:**\n",
    "\n",
    "- It is a right skewed and abviously there are very few movies has been rated by users."
   ]
  },
  {
   "cell_type": "markdown",
   "metadata": {},
   "source": [
    "### As now we have explored the data, let's start building Recommendation systems "
   ]
  },
  {
   "cell_type": "markdown",
   "metadata": {
    "id": "NoLD5mjlv6Y3"
   },
   "source": [
    "### Question 2: Create Rank Based Recommendation System ( Marks 6 )"
   ]
  },
  {
   "cell_type": "markdown",
   "metadata": {},
   "source": [
    "### Model 1: Rank Based Recommendation System"
   ]
  },
  {
   "cell_type": "markdown",
   "metadata": {
    "id": "p4tQBiihv9sJ"
   },
   "source": [
    "Rank-based recommendation systems provide recommendations based on the most popular items. This kind of recommendation system is useful when we have **cold start** problems. Cold start refers to the issue when we get a new user into the system and the machine is not able to recommend movies to the new user, as the user did not have any historical interactions in the dataset. In those cases, we can use rank-based recommendation system to recommend movies to the new user."
   ]
  },
  {
   "cell_type": "markdown",
   "metadata": {
    "id": "b8hR_y_qwGMA"
   },
   "source": [
    "To build the rank-based recommendation system, we take **average** of all the ratings provided to each movie and then rank them based on their average rating."
   ]
  },
  {
   "cell_type": "code",
   "execution_count": 16,
   "metadata": {
    "id": "SW1xynUNwRia"
   },
   "outputs": [],
   "source": [
    "#Calculating average ratings\n",
    "average_rating = data.groupby('movieId').mean()['rating']\n",
    "\n",
    "#Calculating the count of ratings\n",
    "count_rating = data.groupby('movieId').count()['rating']\n",
    "\n",
    "#Making a dataframe with the count and average of ratings\n",
    "final_rating = pd.DataFrame({'avg_rating':average_rating, 'rating_count':count_rating})"
   ]
  },
  {
   "cell_type": "code",
   "execution_count": 17,
   "metadata": {
    "colab": {
     "base_uri": "https://localhost:8080/",
     "height": 235
    },
    "id": "qyo3sUZVwX6j",
    "outputId": "375fcc63-f485-4fb4-9af4-43642c93d801"
   },
   "outputs": [
    {
     "data": {
      "text/html": [
       "<div>\n",
       "<style scoped>\n",
       "    .dataframe tbody tr th:only-of-type {\n",
       "        vertical-align: middle;\n",
       "    }\n",
       "\n",
       "    .dataframe tbody tr th {\n",
       "        vertical-align: top;\n",
       "    }\n",
       "\n",
       "    .dataframe thead th {\n",
       "        text-align: right;\n",
       "    }\n",
       "</style>\n",
       "<table border=\"1\" class=\"dataframe\">\n",
       "  <thead>\n",
       "    <tr style=\"text-align: right;\">\n",
       "      <th></th>\n",
       "      <th>avg_rating</th>\n",
       "      <th>rating_count</th>\n",
       "    </tr>\n",
       "    <tr>\n",
       "      <th>movieId</th>\n",
       "      <th></th>\n",
       "      <th></th>\n",
       "    </tr>\n",
       "  </thead>\n",
       "  <tbody>\n",
       "    <tr>\n",
       "      <th>1</th>\n",
       "      <td>3.878319</td>\n",
       "      <td>452</td>\n",
       "    </tr>\n",
       "    <tr>\n",
       "      <th>2</th>\n",
       "      <td>3.206107</td>\n",
       "      <td>131</td>\n",
       "    </tr>\n",
       "    <tr>\n",
       "      <th>3</th>\n",
       "      <td>3.033333</td>\n",
       "      <td>90</td>\n",
       "    </tr>\n",
       "    <tr>\n",
       "      <th>4</th>\n",
       "      <td>3.550239</td>\n",
       "      <td>209</td>\n",
       "    </tr>\n",
       "    <tr>\n",
       "      <th>5</th>\n",
       "      <td>3.302326</td>\n",
       "      <td>86</td>\n",
       "    </tr>\n",
       "  </tbody>\n",
       "</table>\n",
       "</div>"
      ],
      "text/plain": [
       "         avg_rating  rating_count\n",
       "movieId                          \n",
       "1          3.878319           452\n",
       "2          3.206107           131\n",
       "3          3.033333            90\n",
       "4          3.550239           209\n",
       "5          3.302326            86"
      ]
     },
     "execution_count": 17,
     "metadata": {},
     "output_type": "execute_result"
    }
   ],
   "source": [
    "final_rating.head()"
   ]
  },
  {
   "cell_type": "markdown",
   "metadata": {
    "id": "oTzbUjdlwa_Z"
   },
   "source": [
    "Now, let's create a function to find the **top n movies** for a recommendation based on the average ratings of movies. We can also add a **threshold for a minimum number of interactions** for a movie to be considered for recommendation. "
   ]
  },
  {
   "cell_type": "code",
   "execution_count": 18,
   "metadata": {
    "id": "-70udFrEwd5a"
   },
   "outputs": [],
   "source": [
    "def top_n_movies(data, n, min_interaction=100):\n",
    "    \n",
    "    #Finding movies with minimum number of interactions\n",
    "    recommendations = data[data['rating_count'] > min_interaction]\n",
    "    \n",
    "    #Sorting values w.r.t average rating \n",
    "    recommendations = recommendations.sort_values(by='avg_rating', ascending=False)\n",
    "    \n",
    "    return recommendations.index[:n]"
   ]
  },
  {
   "cell_type": "markdown",
   "metadata": {
    "id": "mjyGBRGUwq3p"
   },
   "source": [
    "We can **use this function with different n's and minimum interactions** to get movies to recommend"
   ]
  },
  {
   "cell_type": "markdown",
   "metadata": {
    "id": "8q0y3CVTwufg"
   },
   "source": [
    "##### Recommending top 5 movies with 50 minimum interactions based on popularity"
   ]
  },
  {
   "cell_type": "code",
   "execution_count": 19,
   "metadata": {
    "colab": {
     "base_uri": "https://localhost:8080/"
    },
    "id": "W3petos9wyW-",
    "outputId": "dcf57bbd-67eb-4623-83e3-1f086ec35979"
   },
   "outputs": [
    {
     "data": {
      "text/plain": [
       "[408, 318, 169, 483, 114]"
      ]
     },
     "execution_count": 19,
     "metadata": {},
     "output_type": "execute_result"
    }
   ],
   "source": [
    "list(top_n_movies(final_rating, 5, 50))"
   ]
  },
  {
   "cell_type": "markdown",
   "metadata": {
    "id": "XlL7fDr9w8Pn"
   },
   "source": [
    "##### Recommending top 5 movies with 100 minimum interactions based on popularity"
   ]
  },
  {
   "cell_type": "code",
   "execution_count": 20,
   "metadata": {
    "colab": {
     "base_uri": "https://localhost:8080/"
    },
    "id": "XDhBLi5ZxAS6",
    "outputId": "6d214efc-8444-47d4-c993-5d60c892b933"
   },
   "outputs": [
    {
     "data": {
      "text/plain": [
       "[408, 318, 169, 483, 64]"
      ]
     },
     "execution_count": 20,
     "metadata": {},
     "output_type": "execute_result"
    }
   ],
   "source": [
    "list(top_n_movies(final_rating, 5, 100))"
   ]
  },
  {
   "cell_type": "markdown",
   "metadata": {
    "id": "E2G9j0dRxMZe"
   },
   "source": [
    "##### Recommending top 5 movies with 200 minimum interactions based on popularity"
   ]
  },
  {
   "cell_type": "code",
   "execution_count": 21,
   "metadata": {
    "colab": {
     "base_uri": "https://localhost:8080/"
    },
    "id": "G1UdDkmGxOdb",
    "outputId": "8902497b-6084-42be-d84d-d1f6b23a8aaa"
   },
   "outputs": [
    {
     "data": {
      "text/plain": [
       "[318, 483, 64, 603, 12]"
      ]
     },
     "execution_count": 21,
     "metadata": {},
     "output_type": "execute_result"
    }
   ],
   "source": [
    "list(top_n_movies(final_rating, 5, 200))"
   ]
  },
  {
   "cell_type": "markdown",
   "metadata": {
    "id": "rgHVNwmyxUip"
   },
   "source": [
    "### Now that we have seen how to apply the Rank-Based Recommendation System Let's build collaborative filtering and matrix factorization using SVD."
   ]
  },
  {
   "cell_type": "markdown",
   "metadata": {
    "id": "ERz3HO_dbFNE"
   },
   "source": [
    "## Cross Validation\n",
    "\n",
    "\n",
    "We will be using cross validation a lot in this code in the training and evaluation of our models. This strategy builds upon the idea of a train-test split, which you should already be familiar with.\n",
    "\n",
    "Instead of doing 1 data split, though, we will do several of them. Each split of the data is called a fold. We let k denote the number of folds we use. k=5 is a common number to use.\n",
    "\n",
    "This image provides a visual explanation of how cross validation works.\n",
    "\n",
    "<img src =\"https://upload.wikimedia.org/wikipedia/commons/1/1c/K-fold_cross_validation_EN.jpg\"></img>"
   ]
  },
  {
   "cell_type": "markdown",
   "metadata": {
    "id": "yniBZ9jqbFNE"
   },
   "source": [
    "### We will use \"cross_validate\" from surprise package to run the models as listed and check their respective RMSEs"
   ]
  },
  {
   "cell_type": "markdown",
   "metadata": {},
   "source": [
    "**In surprise library, we have to change our dataset to surprise dataset. For which we use Reader function from surprise package**"
   ]
  },
  {
   "cell_type": "code",
   "execution_count": 22,
   "metadata": {
    "id": "W59zNXKmbFNF"
   },
   "outputs": [],
   "source": [
    "#coverting data in to surprise dataset\n",
    "reader = Reader(rating_scale=(1,5))\n",
    "data = Dataset.load_from_df(data[['userId', 'movieId', 'rating']], reader)"
   ]
  },
  {
   "cell_type": "markdown",
   "metadata": {
    "id": "SofvHhjTbFNF"
   },
   "source": [
    "## Model 2: Random Baseline Model \n",
    "\n",
    "We want to first get a baseline value for our model. What better way to do that than with a random algorithm! Essentially, this first algorithm is not personalized to the desires of any users - we just assign them movie ratings based on the initial distribution of the data.\n",
    "\n",
    "See the Model 2: Random section of your notebook and follow the instructions to create a new model, train it on the data and evaluate the RMSE."
   ]
  },
  {
   "cell_type": "code",
   "execution_count": 23,
   "metadata": {
    "id": "Ls17rfiAbFNG"
   },
   "outputs": [],
   "source": [
    "#Algorithm predicting a random rating based on the distribution of the training set, which is assumed to be normal.\n",
    "\n",
    "model_random = NormalPredictor()"
   ]
  },
  {
   "cell_type": "code",
   "execution_count": 24,
   "metadata": {
    "id": "ufsMSE0_bFNG"
   },
   "outputs": [],
   "source": [
    "model_using_normal_predictor = cross_validate(model_random, data,measures=['RMSE'],cv=5, verbose=False)"
   ]
  },
  {
   "cell_type": "code",
   "execution_count": 25,
   "metadata": {
    "colab": {
     "base_uri": "https://localhost:8080/"
    },
    "id": "8K5rn69UbFNG",
    "outputId": "9020f980-b98d-49f1-c4c1-142675369ad2"
   },
   "outputs": [
    {
     "name": "stdout",
     "output_type": "stream",
     "text": [
      "Average RMSE for Test Set using NormalPredictor is  1.5245018388929903\n"
     ]
    }
   ],
   "source": [
    "print('Average RMSE for Test Set using {} is '.format(model_random.__class__.__name__),model_using_normal_predictor['test_rmse'].mean())"
   ]
  },
  {
   "cell_type": "markdown",
   "metadata": {
    "id": "08QKqMIXbFNH"
   },
   "source": [
    "## Model 3: User-Based Collaborative Filtering\n",
    "\n",
    "Surely, we can do much better than guessing the movie ratings randomly! Our next model will use the user-user defined notion of similarity to implement collaborative filtering.\n",
    "\n",
    "See the Model 3: User-Based Collaborative Filtering section of your notebook and follow the instructions to create a new model, train it on the data and evaluate the RMSE."
   ]
  },
  {
   "cell_type": "markdown",
   "metadata": {
    "id": "LgywIpCabFNH"
   },
   "source": [
    "**We will use KNNBasic and add parameter 'cosine'. Like we have other similarity measures like Euclidean distance, in recommendation systems we use cosine similarity.** "
   ]
  },
  {
   "cell_type": "code",
   "execution_count": 26,
   "metadata": {
    "id": "-14iwrWfbFNH"
   },
   "outputs": [],
   "source": [
    "#defining KNNBasic model\n",
    "model_user_based = KNNBasic(sim_options ={'name':'cosine','user_base':True},verbose=False)\n",
    "\n",
    "model_using_KNNbasic_cos_user = cross_validate(model_user_based,data,measures=['RMSE'],cv=5, verbose=False)"
   ]
  },
  {
   "cell_type": "code",
   "execution_count": 27,
   "metadata": {
    "colab": {
     "base_uri": "https://localhost:8080/"
    },
    "id": "Hlr79NwlbFNI",
    "outputId": "be6bcc46-4778-4531-b266-f150af7ea803"
   },
   "outputs": [
    {
     "name": "stdout",
     "output_type": "stream",
     "text": [
      "Average RMSE for Test Set using KNNBasic is  1.0168642766169236\n"
     ]
    }
   ],
   "source": [
    "print('Average RMSE for Test Set using {} is '.format(model_user_based.__class__.__name__),model_using_KNNbasic_cos_user['test_rmse'].mean())"
   ]
  },
  {
   "cell_type": "markdown",
   "metadata": {
    "id": "Q1tK8toNbFNI"
   },
   "source": [
    "## Model 4 : Item-Based Collaborative Filtering\n",
    "\n",
    "Our next model will use the item-item defined notion of similarity to once again implement collaborative filtering.\n",
    "\n",
    "See the Model 4: Item-Based Collaborative Filtering section of your notebook and follow the instructions to create a new model, train it on the data and evaluate the RMSE."
   ]
  },
  {
   "cell_type": "code",
   "execution_count": 28,
   "metadata": {
    "id": "sLc4XIN6bFNI"
   },
   "outputs": [],
   "source": [
    "#defining KNNBasic model\n",
    "model_item_based = KNNBasic(sim_options ={'name':'cosine','user_base':False},verbose=False)\n",
    "\n",
    "model_using_KNNbasic_cos_item = cross_validate(model_user_based,data,measures=['RMSE'],cv=5, verbose=False)"
   ]
  },
  {
   "cell_type": "code",
   "execution_count": 29,
   "metadata": {
    "colab": {
     "base_uri": "https://localhost:8080/"
    },
    "id": "_P3ktvimbFNJ",
    "outputId": "57bcce71-d80f-43a3-a4c8-d4ee56485a74"
   },
   "outputs": [
    {
     "name": "stdout",
     "output_type": "stream",
     "text": [
      "Average RMSE for Test Set using KNNBasic is  1.0162689318358213\n"
     ]
    }
   ],
   "source": [
    "print('Average RMSE for Test Set using {} is '.format(model_item_based.__class__.__name__),model_using_KNNbasic_cos_item['test_rmse'].mean())"
   ]
  },
  {
   "cell_type": "markdown",
   "metadata": {
    "id": "dubBa4tJbFNJ"
   },
   "source": [
    "### Question 3 ( 8 Marks)\n",
    "#### 3.1 Compare the results from the user-user and item-item models.\n",
    "#### 3.2 How do they compare to each other? How do they compare to our original \"random\" model?\n",
    "#### 3.3 Can you provide any intuition as to why the results came out the way they did?"
   ]
  },
  {
   "cell_type": "markdown",
   "metadata": {
    "id": "E-sf1yzrbFNJ"
   },
   "source": [
    "**Write your answer here:**\n",
    "\n",
    "User-based and Item-based Collaborative Models have almost same RMSE values while the \"random\" model's RMSE is higher than both of them. Collaborative Filtering Models seems to have a better performance than random model.\n",
    "\n",
    "The Collaborative Models use the user-item-ratings data to find all similarities and make predictions, but random model just predicting a random rating based on the distribution of the data. That's why the Collaborative Models performed better."
   ]
  },
  {
   "cell_type": "markdown",
   "metadata": {
    "id": "CB2entsubFNJ"
   },
   "source": [
    "## Model 5: Matrix Factorization\n",
    "\n",
    "Our final model for this case study will use the matrix factorization approach with the SVD algorithm to try to predict user’s movie ratings. Here, we try to determine some underlying mathematical structure in the user rating matrix, which can help us predict missing ratings in the future.\n",
    "\n",
    "See the Model 5: Matrix Factorization section of your notebook and follow the instructions to create a new model, train it on the data and evaluate the RMSE."
   ]
  },
  {
   "cell_type": "code",
   "execution_count": 30,
   "metadata": {
    "id": "sTQIBoWxbFNK"
   },
   "outputs": [],
   "source": [
    "#matrix factorisation using svd\n",
    "model_svd = SVD()\n",
    "model_using_svd = cross_validate(model_svd,data,measures=['RMSE'],cv=5, verbose=False)"
   ]
  },
  {
   "cell_type": "code",
   "execution_count": 31,
   "metadata": {
    "colab": {
     "base_uri": "https://localhost:8080/"
    },
    "id": "_EDkSckJbFNK",
    "outputId": "9cbadd1c-bc86-47c9-e8a7-7953b86dcf15"
   },
   "outputs": [
    {
     "name": "stdout",
     "output_type": "stream",
     "text": [
      "Average RMSE for Test Set using SVD is  0.9365115959005257\n"
     ]
    }
   ],
   "source": [
    "print('Average RMSE for Test Set using {} is '.format(model_svd.__class__.__name__),model_using_svd['test_rmse'].mean())"
   ]
  },
  {
   "cell_type": "markdown",
   "metadata": {
    "id": "riT_pSzZbFNK"
   },
   "source": [
    "### Question 4 (6 Marks)\n",
    "#### 4.1 The matrix factorization model is different from the collaborative filtering models. Briefly describe this difference. Also, compare the RMSE again.\n",
    "#### 4.2 Does it improve? Can you offer any reasoning as to why that might be?"
   ]
  },
  {
   "cell_type": "markdown",
   "metadata": {
    "id": "J44urjYXbFNL"
   },
   "source": [
    "**Answer:**\n",
    "\n",
    "Collaborative Filtering starts searcheing for neighbors based on similarity of movies preferences and recommend the movie that those neighbors liked while Matrix factorization works by decomposing the user-item matrix into the product of two lower dimensionality rectangular matrices.\n",
    "\n",
    "RMSE for Matrix Factorization (0.9368...) is better than the Collaborative Filtering Models(1.0170...).\n",
    "\n",
    "Matrix Factorization has lower RMSE due to the reason that it assumes that both movie and users are present in some low dimensional space describing their properties and recommend a movie based on its proximity to the user in the latent space. Implying it accounts for latent factors as well."
   ]
  },
  {
   "cell_type": "markdown",
   "metadata": {
    "id": "XBJ48AzobFNL"
   },
   "source": [
    "## Precision and Recall @ k\n",
    "\n",
    "RMSE is not the only metric we can use here. We can also examine two fundamental measures, precision and recall. We also add a parameter k which is helpful in understanding problems with multiple rating outputs.\n",
    "\n",
    "See the Precision and Recall @ k section of your notebook and follow the instructions to compute various precision/recall values at various values of k."
   ]
  },
  {
   "cell_type": "markdown",
   "metadata": {
    "id": "Xb5bIFkdbFNL"
   },
   "source": [
    "### Question 5 (8 Marks)\n",
    "#### 5.1 Compute the precision and recall, for each of the 4 models, at k = 5 and 10. This is 2 x 2 x 4 = 16 numerical values. Do you note anything interesting about these values? \n",
    "#### 5.2 Anything different from the RMSE values you computed above?"
   ]
  },
  {
   "cell_type": "code",
   "execution_count": 32,
   "metadata": {
    "id": "tyFOTxc_bFNM"
   },
   "outputs": [],
   "source": [
    "#function can be found on surprise documentation FAQs\n",
    "def precision_recall_at_k(predictions, k=10, threshold=3.5):\n",
    "    \"\"\"Return precision and recall at k metrics for each user\"\"\"\n",
    "\n",
    "    # First map the predictions to each user.\n",
    "    user_est_true = defaultdict(list)\n",
    "    for uid, _, true_r, est, _ in predictions:\n",
    "        user_est_true[uid].append((est, true_r))\n",
    "\n",
    "    precisions = dict()\n",
    "    recalls = dict()\n",
    "    for uid, user_ratings in user_est_true.items():\n",
    "\n",
    "        # Sort user ratings by estimated value\n",
    "        user_ratings.sort(key=lambda x: x[0], reverse=True)\n",
    "\n",
    "        # Number of relevant items\n",
    "        n_rel = sum((true_r >= threshold) for (_, true_r) in user_ratings)\n",
    "\n",
    "        # Number of recommended items in top k\n",
    "        n_rec_k = sum((est >= threshold) for (est, _) in user_ratings[:k])\n",
    "\n",
    "        # Number of relevant and recommended items in top k\n",
    "        n_rel_and_rec_k = sum(((true_r >= threshold) and (est >= threshold))\n",
    "                              for (est, true_r) in user_ratings[:k])\n",
    "\n",
    "        # Precision@K: Proportion of recommended items that are relevant\n",
    "        # When n_rec_k is 0, Precision is undefined. We here set it to 0.\n",
    "\n",
    "        precisions[uid] = n_rel_and_rec_k / n_rec_k if n_rec_k != 0 else 0\n",
    "\n",
    "        # Recall@K: Proportion of relevant items that are recommended\n",
    "        # When n_rel is 0, Recall is undefined. We here set it to 0.\n",
    "\n",
    "        recalls[uid] = n_rel_and_rec_k / n_rel if n_rel != 0 else 0\n",
    "\n",
    "    return precisions, recalls"
   ]
  },
  {
   "cell_type": "code",
   "execution_count": 33,
   "metadata": {
    "id": "Pk_0McH5bFNM"
   },
   "outputs": [],
   "source": [
    "#A basic cross-validation iterator.\n",
    "kf = KFold(n_splits=5)"
   ]
  },
  {
   "cell_type": "code",
   "execution_count": 34,
   "metadata": {
    "colab": {
     "base_uri": "https://localhost:8080/"
    },
    "id": "RD9dvTEkbFNO",
    "outputId": "41785875-0127-4a22-a638-cec8a6a7a8f8"
   },
   "outputs": [
    {
     "name": "stdout",
     "output_type": "stream",
     "text": [
      "> k=5, model=NormalPredictor\n",
      "-----> Precision:  0.567\n",
      "-----> Recall:  0.321\n",
      "> k=5, model=KNNBasic\n",
      "-----> Precision:  0.735\n",
      "-----> Recall:  0.439\n",
      "> k=5, model=KNNBasic\n",
      "-----> Precision:  0.737\n",
      "-----> Recall:  0.44\n",
      "> k=5, model=SVD\n",
      "-----> Precision:  0.724\n",
      "-----> Recall:  0.41\n",
      "> k=10, model=NormalPredictor\n",
      "-----> Precision:  0.568\n",
      "-----> Recall:  0.413\n",
      "> k=10, model=KNNBasic\n",
      "-----> Precision:  0.706\n",
      "-----> Recall:  0.577\n",
      "> k=10, model=KNNBasic\n",
      "-----> Precision:  0.704\n",
      "-----> Recall:  0.577\n",
      "> k=10, model=SVD\n",
      "-----> Precision:  0.702\n",
      "-----> Recall:  0.541\n"
     ]
    }
   ],
   "source": [
    "# Make list of k values\n",
    "K = [5, 10]\n",
    "\n",
    "# Make list of models\n",
    "models = [model_random, model_user_based, model_item_based, model_svd]\n",
    "\n",
    "for k in K:\n",
    "    for model in models:\n",
    "        print('> k={}, model={}'.format(k,model.__class__.__name__))\n",
    "        p = []\n",
    "        r = []\n",
    "        for trainset, testset in kf.split(data):\n",
    "            model.fit(trainset)\n",
    "            predictions = model.test(testset, verbose=False)\n",
    "            precisions, recalls = precision_recall_at_k(predictions, k=k, threshold=3.5)\n",
    "\n",
    "            # Precision and recall can then be averaged over all users\n",
    "            p.append(sum(prec for prec in precisions.values()) / len(precisions))\n",
    "            r.append(sum(rec for rec in recalls.values()) / len(recalls))\n",
    "        \n",
    "        print('-----> Precision: ', round(sum(p) / len(p), 3))\n",
    "        print('-----> Recall: ', round(sum(r) / len(r), 3))"
   ]
  },
  {
   "cell_type": "markdown",
   "metadata": {
    "id": "hMqYc0iKbFNP"
   },
   "source": [
    "**Write your answer here:**\n",
    "<img src=\"https://i.ibb.co/rszmmx6/download-24.png\" ></img>\n",
    "\n",
    "\n",
    "\n",
    "*Precision quantifies the number of positive class predictions that actually belong to the positive class.\n",
    "\n",
    "*Recall quantifies the number of positive class predictions made out of all positive examples in the dataset.\n",
    "\n",
    "These values are lowest for Random. Collaborative Filtering performed well in both the k values with Precision value ~74% and with k=5, ~73%.\n",
    "\n",
    "SVD has better (lower) RMSE but Collaborative Filtering using Item-Item or User-User have better Precision & Recall.\n",
    "\n",
    "RMSE values are used for Continuous d-type while Precision-Recall are calculated for categorical d-type using Confusion matrix. Thus cannot be compared directly.\n"
   ]
  },
  {
   "cell_type": "markdown",
   "metadata": {
    "id": "c9Iaom1jbFNP"
   },
   "source": [
    "## Top-n Predictions\n",
    "\n",
    "Finally, we want to actually see what ratings the model predicts for our users. We can vary the amount of top movies we see per user by varying the value of n.\n",
    "\n",
    "See the Top-n Predictions section of your notebook and follow the instructions to compute rating predictions for some users."
   ]
  },
  {
   "cell_type": "markdown",
   "metadata": {
    "id": "gVb63CQvbFNR"
   },
   "source": [
    " <a href=https://surprise.readthedocs.io/en/stable/FAQ.html>documentation surprise</a>"
   ]
  },
  {
   "cell_type": "code",
   "execution_count": 35,
   "metadata": {
    "id": "bPf0xxm_bFNR"
   },
   "outputs": [],
   "source": [
    "\n",
    "def get_top_n(predictions, n=10):\n",
    "    \"\"\"Return the top-N recommendation for each user from a set of predictions.\n",
    "\n",
    "    Args:\n",
    "        predictions(list of Prediction objects): The list of predictions, as\n",
    "            returned by the test method of an algorithm.\n",
    "        n(int): The number of recommendation to output for each user. Default\n",
    "            is 10.\n",
    "\n",
    "    Returns:\n",
    "    A dict where keys are user (raw) ids and values are lists of tuples:\n",
    "        [(raw item id, rating estimation), ...] of size n.\n",
    "    \"\"\"\n",
    "\n",
    "    # First map the predictions to each user.\n",
    "    top_n = defaultdict(list)\n",
    "    for uid, iid, true_r, est, _ in predictions:\n",
    "        top_n[uid].append((iid, est))\n",
    "\n",
    "    # Then sort the predictions for each user and retrieve the k highest ones.\n",
    "    for uid, user_ratings in top_n.items():\n",
    "        user_ratings.sort(key=lambda x: x[1], reverse=True)\n",
    "        top_n[uid] = user_ratings[:n]\n",
    "\n",
    "    return top_n"
   ]
  },
  {
   "cell_type": "code",
   "execution_count": 36,
   "metadata": {
    "id": "SZGLx8HobFNR"
   },
   "outputs": [],
   "source": [
    "\n",
    "trainset = data.build_full_trainset()\n",
    "testset = trainset.build_anti_testset()"
   ]
  },
  {
   "cell_type": "code",
   "execution_count": 37,
   "metadata": {
    "colab": {
     "base_uri": "https://localhost:8080/"
    },
    "id": "tjr4Hn8NbFNR",
    "outputId": "f258fb4a-19e0-48e6-a031-e7686d26fb4a"
   },
   "outputs": [
    {
     "name": "stdout",
     "output_type": "stream",
     "text": [
      "model: NormalPredictor, 196: [[  95    5]\n",
      " [1137    5]\n",
      " [ 181    5]\n",
      " [ 143    5]\n",
      " [  20    5]]\n",
      "model: KNNBasic, 196: [[1189    5]\n",
      " [1500    5]\n",
      " [ 814    5]\n",
      " [1536    5]\n",
      " [1293    5]]\n",
      "model: KNNBasic, 196: [[1189    5]\n",
      " [1500    5]\n",
      " [ 814    5]\n",
      " [1536    5]\n",
      " [1293    5]]\n",
      "model: SVD, 196: [[197.     4.64]\n",
      " [603.     4.49]\n",
      " [272.     4.45]\n",
      " [134.     4.45]\n",
      " [483.     4.43]]\n"
     ]
    }
   ],
   "source": [
    "\n",
    "#Making a list of all the columns \n",
    "\n",
    "models = [model_random, model_user_based, model_item_based, model_svd]\n",
    "for model in models:\n",
    "    model.fit(trainset)\n",
    "    predictions = model.test(testset)\n",
    "    top_n = get_top_n(predictions, n=5)\n",
    "    # Print the first one\n",
    "    user = list(top_n.keys())[0]\n",
    "    print(f'model: {model.__class__.__name__}, {user}: {np.round(top_n[user],2)}')"
   ]
  },
  {
   "cell_type": "code",
   "execution_count": 38,
   "metadata": {
    "id": "AVLFcNI5bFNR"
   },
   "outputs": [],
   "source": [
    "columns_1 = ['movie id ','movie title' , 'release date' , 'video release date ','IMDb URL ', 'unknown' , 'Action ', 'Adventure' ,'Animation', \"Childrens\" , 'Comedy' ,\n",
    "             'Crime','Documentary','Drama', 'Fantasy' ,'Film-Noir', 'Horror' ,'Musical', 'Mystery' ,'Romance' , 'Sci-Fi' ,'Thriller' ,'War' ,'Western ']"
   ]
  },
  {
   "cell_type": "code",
   "execution_count": 39,
   "metadata": {
    "id": "Z1Kb7STxbFNS"
   },
   "outputs": [],
   "source": [
    "item_list = pd.read_csv('http://files.grouplens.org/datasets/movielens/ml-100k/u.item',sep=\"|\", encoding=\"iso-8859-1\",header=None,names=columns_1)"
   ]
  },
  {
   "cell_type": "code",
   "execution_count": 40,
   "metadata": {
    "id": "VtiYnnBmbFNS"
   },
   "outputs": [],
   "source": [
    "columns_2 = ['user id','age', 'gender' , 'occupation' , 'zip code']"
   ]
  },
  {
   "cell_type": "code",
   "execution_count": 41,
   "metadata": {
    "id": "zySfEz0hbFNS"
   },
   "outputs": [],
   "source": [
    "user_list = pd.read_csv('http://files.grouplens.org/datasets/movielens/ml-100k/u.user',sep=\"|\", encoding=\"iso-8859-1\",header=None,names=columns_2)"
   ]
  },
  {
   "cell_type": "code",
   "execution_count": 42,
   "metadata": {
    "colab": {
     "base_uri": "https://localhost:8080/",
     "height": 292
    },
    "id": "U6iYvN8_bFNT",
    "outputId": "1c615ea6-ec0f-4172-f5ff-7c259cab6ceb"
   },
   "outputs": [
    {
     "name": "stdout",
     "output_type": "stream",
     "text": [
      "Movies Recommended for user 196 who is a writer by occupation are: \n",
      "Graduate, The (1967)   4.64\n",
      "Rear Window (1954)   4.49\n",
      "Good Will Hunting (1997)   4.45\n",
      "Citizen Kane (1941)   4.45\n",
      "Casablanca (1942)   4.43\n"
     ]
    }
   ],
   "source": [
    "x=196\n",
    "print('Movies Recommended for user {} who is a {} by occupation are: '.format(x,user_list[user_list['user id'] ==x]['occupation'].values[0]))\n",
    "for i in range(0,len(top_n[x])):\n",
    "    print(item_list[item_list['movie id ']==top_n[196][i][0]]['movie title'].values[0],' ',np.round(top_n[196][i][1],2))"
   ]
  },
  {
   "cell_type": "markdown",
   "metadata": {
    "id": "O7zxZQ_fbFNT"
   },
   "source": [
    "### Question 6 ( 6 Marks)\n",
    "#### 6.1 Do the top n predictions that you received make sense? (Try searching of the movie on internet if you have not watched them)\n",
    "#### 6.2 What is the rating value (1-5) of these predictions?\n",
    "#### 6.3 How could you use these predictions in the real-world if you were trying to build a generic content recommender system for a company?"
   ]
  },
  {
   "cell_type": "markdown",
   "metadata": {},
   "source": [
    "**Write your Answer here:**\n",
    "\n",
    "As we expected, we have got the predictions (n=5) for each model. We printed the predictions for One user for each model. Collaborative models  (User-based & Item-based) have given exactly same recommendations.\n",
    "\n",
    "The rating values for Random, User-based, Item-based is fixed at 5, and Matrix Factorization using SVD is from 4.47 to 4.66 . \n",
    "\n",
    "Here our user is a writer, and it's acceptable that he/she is interested in all genres, otherwise the recommendations would look wierd.\n",
    "\n",
    "*Recommender systems are used by streaming services portals to recommend movies to their subscribers. The movie can be recommended based on the top top rated one, based on the profile's information of the user, or based on an analysis of the watching history of the user as a prediction for future choices."
   ]
  }
 ],
 "metadata": {
  "colab": {
   "collapsed_sections": [],
   "name": "Project_Movie_Recommendation_Solution_Notebook.ipynb",
   "provenance": []
  },
  "kernelspec": {
   "display_name": "Python 3",
   "language": "python",
   "name": "python3"
  },
  "language_info": {
   "codemirror_mode": {
    "name": "ipython",
    "version": 3
   },
   "file_extension": ".py",
   "mimetype": "text/x-python",
   "name": "python",
   "nbconvert_exporter": "python",
   "pygments_lexer": "ipython3",
   "version": "3.8.8"
  }
 },
 "nbformat": 4,
 "nbformat_minor": 1
}
